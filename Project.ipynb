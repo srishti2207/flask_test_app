{
  "cells": [
    {
      "cell_type": "markdown",
      "metadata": {
        "id": "f_9OOU4whn5D"
      },
      "source": [
        "# Data Importing into notebook"
      ]
    },
    {
      "cell_type": "code",
      "execution_count": null,
      "metadata": {},
      "outputs": [],
      "source": [
        "# amazon categories = csv\n",
        "!wget -q 'https://drive.google.com/uc?export=download&id=1J4sdOZdtqWJgfVQXpbRGfgCyGpXkIUtv' -O 'src/amazon_categories.csv'"
      ]
    },
    {
      "cell_type": "code",
      "execution_count": 5,
      "metadata": {
        "id": "isjw8X2ehnZi"
      },
      "outputs": [],
      "source": [
        "import pandas as pd\n",
        "\n",
        "# List of chunk file names\n",
        "chunk_files = [\n",
        "    'chunk_1.csv', 'chunk_2.csv', 'chunk_3.csv', 'chunk_4.csv', 'chunk_5.csv',\n",
        "    'chunk_6.csv', 'chunk_7.csv', 'chunk_8.csv', 'chunk_9.csv', 'chunk_10.csv',\n",
        "    'chunk_11.csv', 'chunk_12.csv', 'chunk_13.csv', 'chunk_14.csv', 'chunk_15.csv'\n",
        "]\n",
        "\n",
        "# Add 'src/' prefix to each file name\n",
        "chunk_files = [f'src/{file}' for file in chunk_files]\n",
        "\n",
        "# Read each chunk and concatenate them into one DataFrame\n",
        "chunks = []\n",
        "for file in chunk_files:\n",
        "    chunk = pd.read_csv(file)\n",
        "    chunks.append(chunk)\n",
        "\n",
        "# Concatenate all chunks\n",
        "combined_data = pd.concat(chunks, ignore_index=True)\n",
        "\n",
        "# Save the combined DataFrame to a new CSV file\n",
        "combined_data.to_csv('src/amazon_products.csv', index=False)\n",
        "\n",
        "# Read the other CSV files from the src directory\n",
        "df1 = pd.read_csv('src/amazon_categories.csv')\n",
        "df2 = pd.read_csv('src/amazon_products.csv')\n",
        "\n",
        "# Merge the two DataFrames based on the category_id and id columns\n",
        "merged_df = pd.merge(df2, df1, left_on='category_id', right_on='id')\n",
        "\n",
        "# If you want to save the merged DataFrame to a CSV file\n",
        "merged_df.to_csv('src/merged_amazon_data.csv', index=False)\n"
      ]
    },
    {
      "cell_type": "code",
      "execution_count": null,
      "metadata": {
        "colab": {
          "base_uri": "https://localhost:8080/",
          "height": 642
        },
        "id": "tQR5tn6qlG2x",
        "outputId": "2ab7c038-f554-43f5-fbb3-746b05381708"
      },
      "outputs": [],
      "source": [
        "merged_df.head()"
      ]
    },
    {
      "cell_type": "markdown",
      "metadata": {
        "id": "XNuXq5ANkX2K"
      },
      "source": [
        "# Data cleaning action"
      ]
    },
    {
      "cell_type": "code",
      "execution_count": null,
      "metadata": {
        "id": "BvWgLFggkXIm"
      },
      "outputs": [],
      "source": [
        "merged_df.drop('imgUrl', inplace=True, axis=1) # Image URL not requried\n",
        "merged_df.drop('productURL' , inplace = True, axis =1)\n",
        "merged_df.drop('id', inplace=True, axis=1) # as the category id and id are same\n",
        "merged_df.drop('asin', inplace=True, axis=1) # not requried for our design case\n",
        "merged_df = merged_df[merged_df['price'] != 0.0] # removing price == 0 (selling price can't be 0) so thought of removing the dataset\n",
        "#merged_df = merged_df.sort_values(by='isBestSeller', ascending=False) # just selecting is best seller"
      ]
    },
    {
      "cell_type": "markdown",
      "metadata": {
        "id": "iILudPSymlOz"
      },
      "source": [
        "# Visualization:\n"
      ]
    },
    {
      "cell_type": "code",
      "execution_count": null,
      "metadata": {
        "colab": {
          "base_uri": "https://localhost:8080/",
          "height": 838
        },
        "id": "tFFX0Mm9nJcB",
        "outputId": "468235c2-4031-49b0-efbf-544b5c49defe"
      },
      "outputs": [],
      "source": [
        "\n",
        "import matplotlib.pyplot as plt\n",
        "\n",
        "threshold = 0.5  # setting a threshold value\n",
        "\n",
        "# Group the data by category_id and count occurrences\n",
        "category_counts = merged_df['category_id'].value_counts()\n",
        "\n",
        "# Calculate percentage of entries for each category\n",
        "category_percentages = category_counts / category_counts.sum() * 100\n",
        "\n",
        "# Filter categories based on the threshold\n",
        "significant_categories = category_percentages[category_percentages >= threshold]\n",
        "other_category_count = category_percentages[category_percentages < threshold].sum()\n",
        "significant_categories['Others'] = other_category_count\n",
        "\n",
        "# Plotting the pie chart\n",
        "plt.figure(figsize=(10, 10))  # Define the figure size\n",
        "#plt.pie(significant_categories, labels=significant_categories.index, autopct='%1.1f%%', startangle=140) if you want to show the percentages\n",
        "plt.pie(significant_categories, labels=significant_categories.index, startangle=140)\n",
        "\n",
        "plt.title('Distribution of Category IDs with threshold as 0.5 %')\n",
        "plt.axis('equal')  # Equal aspect ratio ensures that pie is drawn as a circle.\n",
        "plt.show()\n"
      ]
    },
    {
      "cell_type": "code",
      "execution_count": null,
      "metadata": {
        "colab": {
          "base_uri": "https://localhost:8080/",
          "height": 838
        },
        "id": "PVyEHAQho6ex",
        "outputId": "26afb3c0-d15d-45d3-c59a-d0dade09d669"
      },
      "outputs": [],
      "source": [
        "\n",
        "threshold = 0.5  # setting a threshold value\n",
        "\n",
        "# Group the data by category_id and count occurrences\n",
        "category_counts = merged_df['category_id'].value_counts()\n",
        "\n",
        "# Calculate percentage of entries for each category\n",
        "category_percentages = category_counts / category_counts.sum() * 100\n",
        "\n",
        "# Filter categories based on the threshold\n",
        "significant_categories = category_percentages[category_percentages >= threshold]\n",
        "other_category_count = category_percentages[category_percentages < threshold].sum()\n",
        "significant_categories['Others'] = other_category_count\n",
        "\n",
        "# Plotting the pie chart\n",
        "plt.figure(figsize=(10, 10))  # Define the figure size\n",
        "#plt.pie(significant_categories, labels=significant_categories.index, autopct='%1.1f%%', startangle=140) if you want to show the percentages\n",
        "plt.pie(significant_categories, labels=significant_categories.index, startangle=140)\n",
        "\n",
        "plt.title('Distribution of Category IDs with threshold as 0.5 %')\n",
        "plt.axis('equal')  # Equal aspect ratio ensures that pie is drawn as a circle.\n",
        "plt.show()\n"
      ]
    },
    {
      "cell_type": "code",
      "execution_count": null,
      "metadata": {
        "colab": {
          "base_uri": "https://localhost:8080/",
          "height": 472
        },
        "id": "-dWe_UdxpOl_",
        "outputId": "cf51fa09-3506-4b8e-8da5-bb36ec1c65a3"
      },
      "outputs": [],
      "source": [
        "category_counts = merged_df['category_id'].value_counts()\n",
        "plt.title('Distribution of Category IDs with frequency counts on the y-axis and the category IDs on the x-axis')\n",
        "plt.xlabel('category IDs')\n",
        "plt.ylabel('frequency counts')\n",
        "plt.hist(category_counts)\n",
        "plt.show()"
      ]
    },
    {
      "cell_type": "code",
      "execution_count": null,
      "metadata": {
        "colab": {
          "base_uri": "https://localhost:8080/",
          "height": 472
        },
        "id": "Kdw5FF31pYly",
        "outputId": "37ae7d27-2680-431a-f6aa-bf91faed1dc4"
      },
      "outputs": [],
      "source": [
        "is_bestseller_counts = merged_df['isBestSeller'].value_counts()\n",
        "plt.bar(is_bestseller_counts.index.astype(str), is_bestseller_counts)\n",
        "plt.xlabel('isBestSeller')\n",
        "plt.ylabel('Count')\n",
        "plt.title('Distribution of isBestSeller')\n",
        "plt.show()"
      ]
    },
    {
      "cell_type": "code",
      "execution_count": null,
      "metadata": {
        "colab": {
          "base_uri": "https://localhost:8080/",
          "height": 484
        },
        "id": "59ET_1L0pp9f",
        "outputId": "a56bff3b-649e-4996-ca44-fcd96f8609a5"
      },
      "outputs": [],
      "source": [
        "# Filter the DataFrame to include only rows where 'isBestSeller' is True\n",
        "bestseller_df = merged_df[merged_df['isBestSeller'] == True]\n",
        "\n",
        "# Count the occurrences of each unique value in the 'category_id' column of the filtered DataFrame\n",
        "bestseller_counts = bestseller_df['category_id'].value_counts()\n",
        "\n",
        "# Plotting the bar graph\n",
        "plt.bar(bestseller_counts.index, bestseller_counts)\n",
        "plt.xlabel('Category ID')\n",
        "plt.ylabel('Count')\n",
        "plt.title('Distribution of isBestSeller with True Value')\n",
        "plt.xticks(rotation=90)  # Rotate x-axis labels for better readability if needed\n",
        "plt.show()"
      ]
    },
    {
      "cell_type": "markdown",
      "metadata": {
        "id": "1N3-oi9zxEfs"
      },
      "source": [
        "# Recommendation system:"
      ]
    },
    {
      "cell_type": "code",
      "execution_count": null,
      "metadata": {
        "id": "v4MdBcHIxIgd"
      },
      "outputs": [],
      "source": [
        "import pandas as pd\n",
        "\n",
        "# Define categories and their corresponding lists\n",
        "categories = {\n",
        "    \"Electronics_and_Gadgets\": ['Xbox 360 Games', 'Consoles & Accessories', \"Men's Accessories\", 'Televisions & Video Products',\n",
        "                                 'PlayStation Vita Games', 'Consoles & Accessories', 'Wii U Games', 'Consoles & Accessories',\n",
        "                                 'PlayStation 4 Games, Consoles & Accessories', 'Smart Home: Security Cameras and Systems',\n",
        "                                 'Office Electronics', 'Slot Cars', 'Race Tracks & Accessories', 'Video Games',\n",
        "                                 'Smart Home: Voice Assistants and Hubs', 'Toys & Games', 'Automotive Exterior Accessories',\n",
        "                                 'Smart Home: Lawn and Garden', 'Tablet Replacement Parts', \"Kids' Electronics\",\n",
        "                                 'Nintendo Switch Consoles', 'Games & Accessories', 'Accessories & Supplies', 'Electrical Equipment',\n",
        "                                 'Dolls & Accessories', 'RV Parts & Accessories', 'Electronic Components', 'Mac Games & Accessories',\n",
        "                                 'Computers & Tablets', 'Smart Home: Smart Locks and Entry', 'Smart Home: WiFi and Networking',\n",
        "                                 'Smart Home: Lighting', 'Portable Audio & Video', 'PC Games & Accessories', 'Vehicle Electronics',\n",
        "                                 'Games & Accessories', 'Virtual Reality Hardware & Accessories', 'Video Projectors', 'Camera & Photo',\n",
        "                                 'eBook Readers & Accessories', 'Baby Strollers & Accessories', 'Smart Home: Other Solutions',\n",
        "                                 'Smart Home - Heating & Cooling', 'Xbox One Games, Consoles & Accessories', 'Laptop Accessories',\n",
        "                                 'PlayStation 3 Games, Consoles & Accessories', 'Xbox Series X & S Consoles', 'Games & Accessories',\n",
        "                                 'Smart Home: Home Entertainment', \"Women's Accessories\", 'GPS & Navigation', 'Video Game Consoles & Accessories',\n",
        "                                 'Online Video Game Services', 'PlayStation 5 Consoles', 'Games & Accessories', 'Smart Home: Plugs and Outlets',\n",
        "                                 'Smart Home: Vacuums and Mops', 'Sony PSP Games', 'Consoles & Accessories', 'Boys Accessories',\n",
        "                                 'Beauty Tools & Accessories', 'Cell Phones & Accessories', 'Child Safety Car Seats & Accessories',\n",
        "                                 'Computer Networking', 'Home Audio & Theater Products', 'Nintendo DS Games, Consoles & Accessories',\n",
        "                                 'Wii Games, Consoles & Accessories', 'Smart Home Thermostats - Compatibility Checker',\n",
        "                                 'Nintendo 3DS & 2DS Consoles', 'Games & Accessories', 'Smart Home: New Smart Devices',\n",
        "                                 'Automotive Performance Parts & Accessories', 'Tablet Accessories', 'Girls Accessories',\n",
        "                                 'Automotive Interior Accessories', 'Travel Accessories', 'Car Electronics & Accessories'],\n",
        "\n",
        "    \"Crafts_and_Hobbies\": [\"Fabric Decorating\", \"Wall Art\", \"Needlework Supplies\", \"Sewing Products\"],\n",
        "\n",
        "    \"Home_and_Lifestyle\": [\"Vacuum Cleaners & Floor Care\", \"Kids' Furniture\", \"Luggage\", \"Home Décor Products\", \"Furniture\",\n",
        "                            \"Travel Duffel Bags\", \"Bath Products\", \"Security & Surveillance Equipment\", \"Bedding\",\n",
        "                            \"Lighting & Ceiling Fans\", \"Home Appliances\", \"Arts, Crafts & Sewing Storage\",\n",
        "                            \"Home Storage & Organization\", \"Safety & Security\", \"Data Storage\", \"Beauty & Personal Care\",\n",
        "                            \"Home Use Medical Supplies & Equipment\", \"Kitchen & Bath Fixtures\", \"Nursery Furniture\",\n",
        "                            \"Bedding & Décor\", \"Foot, Hand & Nail Care Products\", \"Kitchen & Dining\", \"Kids' Home Store\",\n",
        "                            \"Home Lighting & Ceiling Fans\", \"Tools & Home Improvement\", \"Baby & Child Care Products\",\n",
        "                            \"Oral Care Products\", \"Hair Care Products\", \"Health Care Products\", \"Baby Travel Gear\",\n",
        "                            \"Luggage Sets\", \"Travel Tote Bags\", \"Skin Care Products\", \"Baby Care Products\"],\n",
        "\n",
        "    \"Fashion_and_Accessories\": [\"Men's Clothing\", \"Men's Shoes\", \"Boys' Watches\", \"Girls' Clothing\", \"Boys' Clothing\",\n",
        "                                 \"Girls' Jewelry\", \"Women's Handbags\", \"Beading & Jewelry Making\", \"Baby Girls' Clothing & Shoes\",\n",
        "                                 \"Girls' Watches\", \"Girls' Shoes\", \"Baby Boys' Clothing & Shoes\", \"Men's Watches\", \"Boys' Jewelry\",\n",
        "                                 \"Women's Clothing\", \"Women's Jewelry\", \"Women's Watches\", \"Boys' Shoes\", \"Women's Shoes\"],\n",
        "\n",
        "    \"Automotive_and_Tools\": [\"Automotive Tires & Wheels\", \"Automotive Tools & Equipment\", \"Industrial Power & Hand Tools\",\n",
        "                              \"Kids' Play Cars & Race Cars\", \"Cutting Tools\", \"Heavy Duty & Commercial Vehicle Equipment\",\n",
        "                              \"Painting, Drawing & Art Supplies\", \"Automotive Enthusiast Merchandise\", \"Motorcycle & Powersports\",\n",
        "                              \"Gift Cards\", \"Baby Safety Products\", \"Computer Servers\", \"Occupational Health & Safety Products\",\n",
        "                              \"Retail Store Fixtures & Equipment\", \"Pumps & Plumbing Equipment\", \"Power Tools & Hand Tools\",\n",
        "                              \"Car Care\", \"Automotive Paint & Paint Supplies\", \"Personal Care Products\",\n",
        "                              \"Automotive Replacement Parts\", \"Food Service Equipment & Supplies\", \"Paint, Wall Treatments & Supplies\"],\n",
        "\n",
        "    \"Health_and_Wellness\": [\"Wellness & Relaxation Products\", \"Sexual Wellness Products\", \"Health & Household\", \"Vision Products\",\n",
        "                             \"Sports Nutrition Products\", \"Diet & Sports Nutrition\"],\n",
        "\n",
        "    \"Toys_and_Games\": [\"Sports & Outdoor Play Toys\", \"Baby & Toddler Toys\", \"Kids' Party Supplies\", \"Party Decorations\",\n",
        "                        \"Finger Toys\", \"Building Toys\", \"Novelty Toys & Amusements\", \"Learning & Education Toys\", \"Party Supplies\",\n",
        "                        \"Puzzles\", \"Stuffed Animals & Plush Toys\"],\n",
        "\n",
        "    \"Office_and_Stationery\": [\"Baby Stationery\", \"Gift Wrapping Supplies\", \"Craft & Hobby Fabric\", \"Arts & Crafts Supplies\",\n",
        "                               \"Baby Gifts\", \"Craft Supplies & Materials\", \"Scrapbooking & Stamping Supplies\",\n",
        "                               \"Stationery & Gift Wrapping Supplies\"],\n",
        "\n",
        "    \"Others\": [\"Suitcases\", \"Additive Manufacturing Products\", \"Headphones & Earbuds\", \"Pregnancy & Maternity Products\",\n",
        "               \"Shaving & Hair Removal Products\", \"Kids' Play Tractors\", \"Light Bulbs\", \"Kids' Play Boats\", \"Computer Monitors\",\n",
        "               \"Printmaking Supplies\", \"Baby & Toddler Feeding Supplies\", \"Computers\", \"Wearable Technology\", \"Reptiles & Amphibian Supplies\",\n",
        "               \"Horse Supplies\", \"Computer External Components\", \"Perfumes & Fragrances\", \"Household Cleaning Supplies\", \"Janitorial & Sanitation Supplies\",\n",
        "               \"Kids' Play Buses\", \"Girls' School Uniforms\", \"Packaging & Shipping Supplies\", \"Kids' Dress Up & Pretend Play\", \"Kids' Play Trains & Trams\",\n",
        "               \"Tricycles, Scooters & Wagons\", \"Science Education Supplies\", \"Material Handling Products\", \"Seasonal Décor\", \"Heating, Cooling & Air Quality\",\n",
        "               \"Lab & Scientific Products\", \"Sports & Fitness\", \"Building Supplies\", \"Household Supplies\", \"Toy Figures & Playsets\", \"Professional Dental Supplies\",\n",
        "               \"Computer Components\", \"Baby Activity & Entertainment Products\", \"Lights, Bulbs & Indicators\", \"Knitting & Crochet Supplies\",\n",
        "               \"Commercial Door Products\", \"Makeup\", \"Baby\", \"Boys' School Uniforms\", \"Outdoor Recreation\", \"Sports & Outdoors\", \"Oils & Fluids\",\n",
        "               \"Toilet Training Products\", \"Messenger Bags\", \"Garment Bags\", \"Power Transmission Products\", \"Dog Supplies\", \"Cat Supplies\", \"Professional Medical Supplies\",\n",
        "               \"Toy Vehicle Playsets\", \"Abrasive & Finishing Products\", \"Ironing Products\", \"Baby Diapering Products\", \"Legacy Systems\",\n",
        "               \"Measuring & Layout\", \"Kids' Play Trucks\", \"Laptop Bags\", \"Backpacks\", \"Test, Measure & Inspect\", \"Rain Umbrellas\"]\n",
        "}\n",
        "category_dfs = {category: merged_df[merged_df['category_name'].isin(items)] for category, items in categories.items()}"
      ]
    },
    {
      "cell_type": "code",
      "execution_count": null,
      "metadata": {
        "colab": {
          "base_uri": "https://localhost:8080/"
        },
        "id": "kcJh0PnrzO7r",
        "outputId": "48d8c3de-5d86-4822-bb3c-64d098b5fa47"
      },
      "outputs": [],
      "source": [
        "# Define function to find recommended items\n",
        "def test_data_finder(items):\n",
        "    category_name = items[\"category_name\"]\n",
        "    if category_name is None and category_name != \"\":\n",
        "        pass\n",
        "    else:\n",
        "        for category, df in category_dfs.items():\n",
        "            if category_name in categories[category]:\n",
        "                recommendor_logic(df, items)\n",
        "                break\n",
        "        else:\n",
        "            recommendor_logic(category_dfs[\"Others\"], items)\n",
        "\n",
        "# Define logic for recommending items\n",
        "def recommendor_logic(df, items):\n",
        "    price = items[\"price\"]\n",
        "    price_range = 5\n",
        "\n",
        "    filtered_df = df[(df['category_name'] != items[\"category_name\"]) &\n",
        "                     (df['price'] >= price - price_range) &\n",
        "                     (df['price'] <= price + price_range)].reset_index(drop=True)\n",
        "\n",
        "    selected_items = filtered_df.sample(n=4, random_state=42) #change the n for recommending more products\n",
        "\n",
        "    print(selected_items)\n",
        "\n",
        "# Example item dictionary\n",
        "items = {\n",
        "    \"title\": \"AnapoliZ Cellophane Wrap Roll Gold | 100’ Ft  L...\",\n",
        "    \"stars\": 4.5,\n",
        "    \"reviews\": 0,\n",
        "    \"price\": 8.89,\n",
        "    \"listPrice\": 12.95,\n",
        "    \"category_id\": \"12\",\n",
        "    \"isBestSeller\": True,\n",
        "    \"boughtInLastMonth\": 2000,\n",
        "    \"category_name\": \"Gift Wrapping Supplies\"\n",
        "}\n",
        "\n",
        "# Call the function to find recommended items\n",
        "test_data_finder(items)"
      ]
    }
  ],
  "metadata": {
    "colab": {
      "provenance": []
    },
    "kernelspec": {
      "display_name": "Python 3",
      "name": "python3"
    },
    "language_info": {
      "codemirror_mode": {
        "name": "ipython",
        "version": 3
      },
      "file_extension": ".py",
      "mimetype": "text/x-python",
      "name": "python",
      "nbconvert_exporter": "python",
      "pygments_lexer": "ipython3",
      "version": "3.12.3"
    }
  },
  "nbformat": 4,
  "nbformat_minor": 0
}
